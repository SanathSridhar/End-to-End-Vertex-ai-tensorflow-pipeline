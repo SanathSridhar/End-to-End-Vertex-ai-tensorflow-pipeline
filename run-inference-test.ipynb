{
 "cells": [
  {
   "cell_type": "code",
   "execution_count": 1,
   "id": "666955ab-8494-4b49-9155-8c987f3b15ed",
   "metadata": {},
   "outputs": [],
   "source": [
    "from google.cloud import aiplatform\n",
    "\n",
    "endpoint_id = \"Your-Endpoint-ID \""
   ]
  },
  {
   "cell_type": "code",
   "execution_count": 2,
   "id": "70d852d5-77f8-4985-bb36-70e23a89bed9",
   "metadata": {},
   "outputs": [
    {
     "name": "stdout",
     "output_type": "stream",
     "text": [
      "env: PATH=/usr/local/cuda/bin:/opt/conda/bin:/opt/conda/condabin:/usr/local/bin:/usr/bin:/bin:/usr/local/games:/usr/games:/home/jupyter/.local/bin\n"
     ]
    }
   ],
   "source": [
    "#Define environment for vertex ai\n",
    "\n",
    "PATH = %env PATH\n",
    "%env PATH={PATH}:/home/jupyter/.local/bin"
   ]
  },
  {
   "cell_type": "code",
   "execution_count": 10,
   "id": "dbc951c8-dccd-4042-96dc-e48db0611597",
   "metadata": {},
   "outputs": [],
   "source": [
    "from PIL import Image\n",
    "import numpy as np\n",
    "\n",
    "image_path = \"7_test.png\"  # Replace with the path to your image\n",
    "\n",
    "image = Image.open(image_path)\n",
    "\n",
    "# Convert the PIL Image to a NumPy array\n",
    "image_array = np.array(image)\n",
    "\n",
    "# Normalize the pixel values to the range [0, 1]\n",
    "image_array = image_array/ 255\n",
    "image_array = image_array.reshape(-1, 28, 28, 1)\n",
    "image_tuple = tuple(image_array.tolist())"
   ]
  },
  {
   "cell_type": "code",
   "execution_count": 11,
   "id": "efef2191-7bfe-4849-863d-4f37fba25fb5",
   "metadata": {},
   "outputs": [],
   "source": [
    "api_endpoint = \"us-central1-aiplatform.googleapis.com\"\n",
    "\n",
    "client_options = {\"api_endpoint\": api_endpoint}\n",
    "    # Initialize client that will be used to create and send requests.\n",
    "    # This client only needs to be created once, and can be reused for multiple requests.\n",
    "client = aiplatform.gapic.PredictionServiceClient(client_options=client_options)"
   ]
  },
  {
   "cell_type": "code",
   "execution_count": 12,
   "id": "85c1522e-4397-4091-8b7d-20a73d5b677f",
   "metadata": {},
   "outputs": [],
   "source": [
    "PROJECT_ID = \"imperial-data-306906\"\n",
    "REGION = \"us-central1\""
   ]
  },
  {
   "cell_type": "code",
   "execution_count": 13,
   "id": "6068c53c-5c3d-48f7-9052-9ab0fa4e0f79",
   "metadata": {},
   "outputs": [],
   "source": [
    "tf_endpoint = client.endpoint_path(\n",
    "        project=PROJECT_ID, location=REGION, endpoint=endpoint_id\n",
    "    )"
   ]
  },
  {
   "cell_type": "code",
   "execution_count": 14,
   "id": "467f7314-15a3-4ca9-b213-a63beb830841",
   "metadata": {},
   "outputs": [],
   "source": [
    "response = client.predict(\n",
    "    endpoint=tf_endpoint, instances=image_tuple\n",
    ")"
   ]
  },
  {
   "cell_type": "code",
   "execution_count": 15,
   "id": "06c8a030-fb92-402c-bce4-dc89d9ed2c88",
   "metadata": {},
   "outputs": [
    {
     "data": {
      "text/plain": [
       "[[1.1107657e-09, 4.61775294e-08, 5.73740465e-07, 8.0116056e-09, 1.61397351e-09, 8.34375402e-10, 2.56492961e-13, 0.999999285, 7.31965877e-11, 1.13208294e-07]]"
      ]
     },
     "execution_count": 15,
     "metadata": {},
     "output_type": "execute_result"
    }
   ],
   "source": [
    "predictions = response.predictions\n",
    "predictions"
   ]
  },
  {
   "cell_type": "code",
   "execution_count": 16,
   "id": "772200f9-78a2-4ee5-964b-81ab95e43df7",
   "metadata": {},
   "outputs": [
    {
     "name": "stdout",
     "output_type": "stream",
     "text": [
      "Predicted: 7\n"
     ]
    }
   ],
   "source": [
    "print(\"Predicted: {}\".format(np.argmax(predictions)))"
   ]
  },
  {
   "cell_type": "code",
   "execution_count": null,
   "id": "a13a3a0d-dea0-4455-bc65-9ec508ea8a57",
   "metadata": {},
   "outputs": [],
   "source": []
  }
 ],
 "metadata": {
  "environment": {
   "kernel": "python3",
   "name": "tf2-cpu.2-11.m112",
   "type": "gcloud",
   "uri": "gcr.io/deeplearning-platform-release/tf2-cpu.2-11:m112"
  },
  "kernelspec": {
   "display_name": "Python 3",
   "language": "python",
   "name": "python3"
  },
  "language_info": {
   "codemirror_mode": {
    "name": "ipython",
    "version": 3
   },
   "file_extension": ".py",
   "mimetype": "text/x-python",
   "name": "python",
   "nbconvert_exporter": "python",
   "pygments_lexer": "ipython3",
   "version": "3.10.12"
  }
 },
 "nbformat": 4,
 "nbformat_minor": 5
}
